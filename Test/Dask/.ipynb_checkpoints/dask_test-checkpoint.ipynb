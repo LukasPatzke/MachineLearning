{
 "cells": [
  {
   "cell_type": "markdown",
   "metadata": {},
   "source": [
    "# Dask test"
   ]
  },
  {
   "cell_type": "code",
   "execution_count": 21,
   "metadata": {},
   "outputs": [],
   "source": [
    "import pandas as pd\n",
    "import numpy as np\n",
    "import dask.dataframe as dd\n",
    "from random import randint, uniform, choices\n",
    "from string import ascii_lowercase\n",
    "import multiprocessing as mp\n",
    "from datetime import datetime, timedelta\n",
    "import glob"
   ]
  },
  {
   "cell_type": "code",
   "execution_count": 38,
   "metadata": {},
   "outputs": [],
   "source": [
    "def create_test_set(length, int_cols, float_cols, category_cols, text_cols):\n",
    "    col_count = 0\n",
    "    \n",
    "    # ints\n",
    "    data = {'col%003d' % col: [randint(0, 100000) for i in range(length)] for col in range(int_cols)}\n",
    "    col_count += int_cols\n",
    "    \n",
    "    # floats\n",
    "    data.update({'col%003d' % col: [uniform(0.0, 100000) for i in range(length)] for col in range(col_count, col_count + float_cols)})\n",
    "    col_count += float_cols\n",
    "    \n",
    "    # categories\n",
    "    data.update({'col%003d' % col: [['col%003d_cat%d' % (col, cat) for cat in range(10)][cat_] for cat_ in [randint(0,9) for i in range(length)]] for col in range(col_count, col_count + category_cols)})\n",
    "    col_count += category_cols\n",
    "    \n",
    "    # text\n",
    "    data.update({'col%003d' % col: [''.join(choices(ascii_lowercase, k=15)) for i in range(length)] for col in range(col_count, col_count + text_cols)})\n",
    "    \n",
    "    return pd.DataFrame(data)"
   ]
  },
  {
   "cell_type": "code",
   "execution_count": 17,
   "metadata": {},
   "outputs": [],
   "source": [
    "for i in range(9):\n",
    "    create_test_set(20000,20,20,60,20).to_csv('./Dataset_%d.csv' % i)"
   ]
  },
  {
   "cell_type": "code",
   "execution_count": 18,
   "metadata": {},
   "outputs": [],
   "source": [
    "create_test_set(200000,20,20,60,20).to_csv('./Dataset_10.csv')"
   ]
  },
  {
   "cell_type": "code",
   "execution_count": 8,
   "metadata": {},
   "outputs": [],
   "source": [
    "data = pd.read_csv('./Dataset_10.csv')"
   ]
  },
  {
   "cell_type": "code",
   "execution_count": 19,
   "metadata": {},
   "outputs": [],
   "source": [
    "for i in range(30):\n",
    "    date = datetime.strftime(datetime.today() + timedelta(days=i), '%Y%m%d')\n",
    "    data['extraction_date'] = date\n",
    "    data.to_parquet('./Dataset/%s.parq' % date) "
   ]
  },
  {
   "cell_type": "code",
   "execution_count": 22,
   "metadata": {},
   "outputs": [],
   "source": [
    "data.to_parquet('./Dataset_10.parquet')"
   ]
  },
  {
   "cell_type": "code",
   "execution_count": 24,
   "metadata": {},
   "outputs": [],
   "source": [
    "data.to_parquet('./Dataset_10_brotli.parquet', compression='brotli')"
   ]
  },
  {
   "cell_type": "code",
   "execution_count": 25,
   "metadata": {},
   "outputs": [],
   "source": [
    "data.to_parquet('./Dataset_10_gzip.parquet', compression='gzip')"
   ]
  },
  {
   "cell_type": "code",
   "execution_count": 5,
   "metadata": {},
   "outputs": [],
   "source": [
    "data_cat = data.copy()"
   ]
  },
  {
   "cell_type": "code",
   "execution_count": 6,
   "metadata": {},
   "outputs": [],
   "source": [
    "for col in range(40,100):\n",
    "    data_cat['col%002d' % col] = data_cat['col%002d' % col].astype('category')"
   ]
  },
  {
   "cell_type": "code",
   "execution_count": 28,
   "metadata": {},
   "outputs": [
    {
     "name": "stdout",
     "output_type": "stream",
     "text": [
      "<class 'pandas.core.frame.DataFrame'>\n",
      "RangeIndex: 200000 entries, 0 to 199999\n",
      "Columns: 121 entries, Unnamed: 0 to col99\n",
      "dtypes: float64(20), int64(21), object(80)\n",
      "memory usage: 1.1 GB\n"
     ]
    }
   ],
   "source": [
    "data.info(memory_usage='deep')"
   ]
  },
  {
   "cell_type": "code",
   "execution_count": 29,
   "metadata": {},
   "outputs": [
    {
     "name": "stdout",
     "output_type": "stream",
     "text": [
      "<class 'pandas.core.frame.DataFrame'>\n",
      "RangeIndex: 200000 entries, 0 to 199999\n",
      "Columns: 121 entries, Unnamed: 0 to col99\n",
      "dtypes: category(60), float64(20), int64(21), object(20)\n",
      "memory usage: 348.7 MB\n"
     ]
    }
   ],
   "source": [
    "data_cat.info(memory_usage='deep')"
   ]
  },
  {
   "cell_type": "code",
   "execution_count": 30,
   "metadata": {},
   "outputs": [],
   "source": [
    "data_cat.to_parquet('./Dataset_10_cat.parquet')"
   ]
  },
  {
   "cell_type": "code",
   "execution_count": 7,
   "metadata": {},
   "outputs": [],
   "source": [
    "data_cat.to_parquet('./Dataset_10_cat_fastparquet.parquet', engine='fastparquet')"
   ]
  },
  {
   "cell_type": "code",
   "execution_count": 25,
   "metadata": {},
   "outputs": [],
   "source": [
    "datasets = glob.glob('./Dataset/*.parq')"
   ]
  },
  {
   "cell_type": "code",
   "execution_count": 26,
   "metadata": {},
   "outputs": [],
   "source": [
    "dd_df = dd.read_parquet(datasets)"
   ]
  },
  {
   "cell_type": "code",
   "execution_count": 28,
   "metadata": {},
   "outputs": [
    {
     "data": {
      "text/plain": [
       "extraction_date\n",
       "20180630    200000\n",
       "20180714    200000\n",
       "20180704    200000\n",
       "20180719    200000\n",
       "20180715    200000\n",
       "20180721    200000\n",
       "20180716    200000\n",
       "20180708    200000\n",
       "20180702    200000\n",
       "20180706    200000\n",
       "20180627    200000\n",
       "20180701    200000\n",
       "20180622    200000\n",
       "20180713    200000\n",
       "20180709    200000\n",
       "20180718    200000\n",
       "20180710    200000\n",
       "20180720    200000\n",
       "20180705    200000\n",
       "20180625    200000\n",
       "20180717    200000\n",
       "20180623    200000\n",
       "20180711    200000\n",
       "20180712    200000\n",
       "20180624    200000\n",
       "20180707    200000\n",
       "20180628    200000\n",
       "20180703    200000\n",
       "20180629    200000\n",
       "20180626    200000\n",
       "Name: extraction_date, dtype: int64"
      ]
     },
     "execution_count": 28,
     "metadata": {},
     "output_type": "execute_result"
    }
   ],
   "source": [
    "dd_df.groupby(['extraction_date']).extraction_date.count().compute()"
   ]
  },
  {
   "cell_type": "code",
   "execution_count": 10,
   "metadata": {},
   "outputs": [
    {
     "data": {
      "text/plain": [
       "100000"
      ]
     },
     "execution_count": 10,
     "metadata": {},
     "output_type": "execute_result"
    }
   ],
   "source": [
    "dd_df.col01.max().compute()"
   ]
  },
  {
   "cell_type": "code",
   "execution_count": 2,
   "metadata": {},
   "outputs": [],
   "source": [
    "from dask.distributed import Client, LocalCluster"
   ]
  },
  {
   "cell_type": "code",
   "execution_count": 3,
   "metadata": {},
   "outputs": [],
   "source": [
    "cluster = LocalCluster()\n",
    "client = Client(cluster)"
   ]
  },
  {
   "cell_type": "code",
   "execution_count": 4,
   "metadata": {},
   "outputs": [
    {
     "name": "stdout",
     "output_type": "stream",
     "text": [
      "LocalCluster('tcp://127.0.0.1:35362', workers=8, ncores=8)\n"
     ]
    }
   ],
   "source": [
    "print(cluster)"
   ]
  },
  {
   "cell_type": "code",
   "execution_count": null,
   "metadata": {},
   "outputs": [],
   "source": []
  }
 ],
 "metadata": {
  "kernelspec": {
   "display_name": "Python 3",
   "language": "python",
   "name": "python3"
  },
  "language_info": {
   "codemirror_mode": {
    "name": "ipython",
    "version": 3
   },
   "file_extension": ".py",
   "mimetype": "text/x-python",
   "name": "python",
   "nbconvert_exporter": "python",
   "pygments_lexer": "ipython3",
   "version": "3.6.5"
  }
 },
 "nbformat": 4,
 "nbformat_minor": 2
}
