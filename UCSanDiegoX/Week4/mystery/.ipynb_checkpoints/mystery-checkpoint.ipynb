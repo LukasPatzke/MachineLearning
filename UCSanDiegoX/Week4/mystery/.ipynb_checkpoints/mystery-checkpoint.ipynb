{
 "cells": [
  {
   "cell_type": "code",
   "execution_count": 1,
   "metadata": {
    "collapsed": true
   },
   "outputs": [],
   "source": [
    "# Standard includes\n",
    "%matplotlib inline\n",
    "import numpy as np\n",
    "import matplotlib\n",
    "import matplotlib.pyplot as plt\n",
    "# Routines for linear regression\n",
    "from sklearn import linear_model\n",
    "from sklearn.metrics import mean_squared_error"
   ]
  },
  {
   "cell_type": "code",
   "execution_count": 2,
   "metadata": {
    "collapsed": true
   },
   "outputs": [],
   "source": [
    "data = np.genfromtxt('mystery.dat', delimiter=',')\n",
    "x = data[:,0:100] # predictors\n",
    "y = data[:,100] # response variable"
   ]
  },
  {
   "cell_type": "code",
   "execution_count": 6,
   "metadata": {},
   "outputs": [],
   "source": [
    "def feature_subset_regression(x,y,flist):\n",
    "    if len(flist) < 1:\n",
    "        print (\"Need at least one feature\")\n",
    "        return\n",
    "    for f in flist:\n",
    "        if (f < 0) or (f > 99):\n",
    "            print (\"Feature index is out of bounds\")\n",
    "            return\n",
    "    regr = linear_model.LinearRegression()\n",
    "    regr.fit(x[:,flist], y)\n",
    "    return regr"
   ]
  },
  {
   "cell_type": "code",
   "execution_count": 8,
   "metadata": {},
   "outputs": [
    {
     "name": "stdout",
     "output_type": "stream",
     "text": [
      "[1, 5, 7, 19, 44]\n",
      "w =  [ 0.83324318 -0.3459277  -0.4309913   0.2854153   0.36972746]\n",
      "b =  0.0270325204452\n",
      "Mean squared error:  8.27394094044\n",
      "[2, 3, 13, 17, 29]\n",
      "w =  [ 0.3876896   0.52133709  0.07247709 -0.17708642  0.15894952]\n",
      "b =  -0.0279658310462\n",
      "Mean squared error:  9.00043415662\n",
      "[3, 7, 13, 19, 44]\n",
      "w =  [ 0.60441966 -0.55227452  0.15870556  0.26222865  0.35794696]\n",
      "b =  -0.0836955209554\n",
      "Mean squared error:  8.69316022791\n",
      "[5, 23, 24, 51, 61]\n",
      "w =  [-0.30301849  0.22507339 -0.44556407  0.15784941  0.29273196]\n",
      "b =  0.0605051636704\n",
      "Mean squared error:  8.95410912144\n"
     ]
    }
   ],
   "source": [
    "for flist in [[1,5,7,19,44], [2,3,13,17,29], [3,7,13,19,44], [5,23,24,51,61]]:\n",
    "    regr = feature_subset_regression(x,y,flist)\n",
    "    print(flist)\n",
    "    print (\"w = \", regr.coef_)\n",
    "    print (\"b = \", regr.intercept_)\n",
    "    print (\"Mean squared error: \", mean_squared_error(y, regr.predict(x[:,flist])))"
   ]
  },
  {
   "cell_type": "code",
   "execution_count": 15,
   "metadata": {},
   "outputs": [
    {
     "name": "stdout",
     "output_type": "stream",
     "text": [
      "[ 0.          0.24841889  0.14858335  0.          0.42592769 -0.\n",
      "  0.39656748 -0.         -0.         -0.          0.51638403 -0.\n",
      "  0.34624688 -0.         -0.         -0.          0.62423963 -0.          0.4637213\n",
      "  0.          0.         -0.          0.49472784  0.         -0.         -0.\n",
      " -0.          0.          0.10301208  0.         -0.          0.          0.\n",
      " -0.         -0.         -0.         -0.          0.         -0.          0.\n",
      " -0.          0.         -0.         -0.          0.         -0.         -0.\n",
      " -0.          0.          0.         -0.          0.          0.          0.\n",
      " -0.          0.         -0.         -0.          0.          0.          0.\n",
      "  0.          0.         -0.         -0.          0.         -0.         -0.\n",
      "  0.          0.          0.          0.          0.          0.          0.\n",
      "  0.         -0.          0.         -0.         -0.          0.10048512\n",
      " -0.         -0.         -0.         -0.         -0.         -0.          0.\n",
      " -0.         -0.          0.          0.          0.          0.          0.\n",
      "  0.         -0.          0.         -0.          0.        ]\n",
      "[29  3  2 13  7  5 19 23 11 17]\n"
     ]
    }
   ],
   "source": [
    "regr = linear_model.Lasso(0.5)\n",
    "regr.fit(x, y)\n",
    "print(regr.coef_)\n",
    "print(np.argsort(regr.coef_)[-10:]+1)"
   ]
  },
  {
   "cell_type": "code",
   "execution_count": 16,
   "metadata": {
    "collapsed": true
   },
   "outputs": [],
   "source": [
    "def best_ten_features(alpha):\n",
    "    regr = linear_model.Lasso(alpha)\n",
    "    regr.fit(x, y)\n",
    "    print('alpha: %s; %s' % (alpha, np.argsort(regr.coef_)[-10:]+1))"
   ]
  },
  {
   "cell_type": "code",
   "execution_count": 19,
   "metadata": {},
   "outputs": [
    {
     "name": "stdout",
     "output_type": "stream",
     "text": [
      "alpha: 0.1; [29  3 13 19  2 23 17 11  7  5]\n",
      "alpha: 0.2; [29  3 13 19  2  7 23 17 11  5]\n",
      "alpha: 0.3; [29  3 13  2 19  7 23  5 11 17]\n",
      "alpha: 0.4; [29  3  2 13  7 19  5 23 11 17]\n",
      "alpha: 0.5; [29  3  2 13  7  5 19 23 11 17]\n",
      "alpha: 0.6; [36  2 81 13  5  7 19 23 11 17]\n",
      "alpha: 0.7; [ 30 100  81  13   5   7  23  11  19  17]\n",
      "alpha: 0.8; [ 30 100  81  13   5   7  23  11  19  17]\n",
      "alpha: 0.9; [ 32  31  30  29  37 100  23  11  19  17]\n",
      "alpha: 1; [ 32  31  30  29  37 100  23  11  19  17]\n"
     ]
    }
   ],
   "source": [
    "for alpha in [0.1, 0.2, 0.3, 0.4, 0.5, 0.6, 0.7, 0.8, 0.9, 1]:\n",
    "    best_ten_features(alpha)"
   ]
  }
 ],
 "metadata": {
  "kernelspec": {
   "display_name": "Python 3",
   "language": "python",
   "name": "python3"
  },
  "language_info": {
   "codemirror_mode": {
    "name": "ipython",
    "version": 3
   },
   "file_extension": ".py",
   "mimetype": "text/x-python",
   "name": "python",
   "nbconvert_exporter": "python",
   "pygments_lexer": "ipython3",
   "version": "3.6.1"
  }
 },
 "nbformat": 4,
 "nbformat_minor": 2
}
