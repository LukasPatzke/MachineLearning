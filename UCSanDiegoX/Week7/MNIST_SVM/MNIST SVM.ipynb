{
 "cells": [
  {
   "cell_type": "code",
   "execution_count": 1,
   "metadata": {},
   "outputs": [],
   "source": [
    "%matplotlib inline\n",
    "import matplotlib.pyplot as plt \n",
    "import gzip, os\n",
    "import numpy as np\n",
    "from urllib.request import urlretrieve\n",
    "from sklearn.svm import LinearSVC\n",
    "from sklearn.svm import SVC"
   ]
  },
  {
   "cell_type": "code",
   "execution_count": 2,
   "metadata": {},
   "outputs": [],
   "source": [
    "# Function that downloads a specified MNIST data file from Yann Le Cun's website\n",
    "def download(filename, source='http://yann.lecun.com/exdb/mnist/'):\n",
    "    print(\"Downloading %s\" % filename)\n",
    "    urlretrieve(source + filename, filename)\n",
    "\n",
    "# Invokes download() if necessary, then reads in images\n",
    "def load_mnist_images(filename):\n",
    "    if not os.path.exists(filename):\n",
    "        download(filename)\n",
    "    with gzip.open(filename, 'rb') as f:\n",
    "        data = np.frombuffer(f.read(), np.uint8, offset=16)\n",
    "    data = data.reshape(-1,784)\n",
    "    return data\n",
    "\n",
    "def load_mnist_labels(filename):\n",
    "    if not os.path.exists(filename):\n",
    "        download(filename)\n",
    "    with gzip.open(filename, 'rb') as f:\n",
    "        data = np.frombuffer(f.read(), np.uint8, offset=8)\n",
    "    return data"
   ]
  },
  {
   "cell_type": "code",
   "execution_count": 7,
   "metadata": {},
   "outputs": [],
   "source": [
    "def evaluate_SVM(svm, data, labels):\n",
    "    predictions = svm.predict(data)\n",
    "    errors = np.sum(predictions != labels)\n",
    "    return errors/len(labels)\n",
    "\n",
    "def learn_and_evaluate_SVM(kernel_type='linear', C_value=1.0):\n",
    "    ## Load the training set\n",
    "    train_data = load_mnist_images('train-images-idx3-ubyte.gz')\n",
    "    train_labels = load_mnist_labels('train-labels-idx1-ubyte.gz')\n",
    "\n",
    "    ## Load the testing set\n",
    "    test_data = load_mnist_images('t10k-images-idx3-ubyte.gz')\n",
    "    test_labels = load_mnist_labels('t10k-labels-idx1-ubyte.gz')\n",
    "    \n",
    "    if kernel_type == 'linear':\n",
    "        clf = LinearSVC(loss='hinge', C=C_value)\n",
    "    if kernel_type == 'quadratic':\n",
    "        clf = SVC(kernel='poly', degree=2, C=C_value)\n",
    "        \n",
    "    clf.fit(train_data, train_labels)\n",
    "    \n",
    "    print('Test Error: ', evaluate_SVM(clf, test_data, test_labels))\n",
    "    print('Training Error: ', evaluate_SVM(clf, train_data, train_labels))\n",
    "    "
   ]
  },
  {
   "cell_type": "code",
   "execution_count": null,
   "metadata": {},
   "outputs": [],
   "source": [
    "learn_and_evaluate_SVM(kernel_type='linear', C_value=1.0)"
   ]
  },
  {
   "cell_type": "code",
   "execution_count": null,
   "metadata": {},
   "outputs": [],
   "source": []
  }
 ],
 "metadata": {
  "kernelspec": {
   "display_name": "Python 3",
   "language": "python",
   "name": "python3"
  },
  "language_info": {
   "codemirror_mode": {
    "name": "ipython",
    "version": 3
   },
   "file_extension": ".py",
   "mimetype": "text/x-python",
   "name": "python",
   "nbconvert_exporter": "python",
   "pygments_lexer": "ipython3",
   "version": "3.6.4"
  }
 },
 "nbformat": 4,
 "nbformat_minor": 2
}
